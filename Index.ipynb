{
 "cells": [
  {
   "cell_type": "markdown",
   "metadata": {},
   "source": [
    "## Introducing the Notebook\n",
    "\n",
    "* [Notebook basics](Notebook Basics.ipynb)\n",
    "* [Running Code](Running Code.ipynb)\n",
    "* [Working with Markdown Cells](Working With Markdown Cells.ipynb)\n",
    "* Extra: [Typesetting Equations](Typesetting Equations.ipynb)"
   ]
  },
  {
   "cell_type": "markdown",
   "metadata": {},
   "source": [
    "## IPython - beyond plain Python\n",
    "\n",
    "* [Beyond Plain Python](Beyond Plain Python.ipynb)\n",
    "\n",
    "## Rich output display\n",
    "\n",
    "* [Rich Output](Rich Output.ipynb)\n",
    "* Extra: [Custom Display Logic](Custom Display Logic.ipynb)\n",
    "* Extra: [Updating Displays](Updating Displays.ipynb)\n",
    "\n",
    "## Interactive widgets in notebook output"
   ]
  },
  {
   "cell_type": "markdown",
   "metadata": {},
   "source": [
    "## Notebook files and nbconvert\n",
    "\n",
    "\n",
    "## Sharing notebooks with Github, Nbviewer and Binder"
   ]
  }
 ],
 "metadata": {
  "kernelspec": {
   "display_name": "Python 3",
   "language": "python",
   "name": "python3"
  },
  "language_info": {
   "codemirror_mode": {
    "name": "ipython",
    "version": 3
   },
   "file_extension": ".py",
   "mimetype": "text/x-python",
   "name": "python",
   "nbconvert_exporter": "python",
   "pygments_lexer": "ipython3",
   "version": "3.5.2"
  }
 },
 "nbformat": 4,
 "nbformat_minor": 2
}
